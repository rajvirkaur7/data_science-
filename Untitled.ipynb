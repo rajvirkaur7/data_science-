{
 "cells": [
  {
   "cell_type": "code",
   "execution_count": 1,
   "id": "4c190917-1db8-4b51-949f-1537df605931",
   "metadata": {},
   "outputs": [
    {
     "name": "stdout",
     "output_type": "stream",
     "text": [
      "rajvir\n"
     ]
    }
   ],
   "source": [
    "print(\"rajvir\")"
   ]
  },
  {
   "cell_type": "code",
   "execution_count": null,
   "id": "8549f4db-a0e4-4b29-8459-bc28d1515438",
   "metadata": {},
   "outputs": [],
   "source": []
  }
 ],
 "metadata": {
  "kernelspec": {
   "display_name": "Python 3 (ipykernel)",
   "language": "python",
   "name": "python3"
  },
  "language_info": {
   "codemirror_mode": {
    "name": "ipython",
    "version": 3
   },
   "file_extension": ".py",
   "mimetype": "text/x-python",
   "name": "python",
   "nbconvert_exporter": "python",
   "pygments_lexer": "ipython3",
   "version": "3.12.3"
  }
 },
 "nbformat": 4,
 "nbformat_minor": 5
}
